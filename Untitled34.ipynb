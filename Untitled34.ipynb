{
 "cells": [
  {
   "cell_type": "code",
   "execution_count": 13,
   "id": "b132e0aa",
   "metadata": {},
   "outputs": [
    {
     "name": "stdout",
     "output_type": "stream",
     "text": [
      "3.8.8 (default, Apr 13 2021, 15:08:03) [MSC v.1916 64 bit (AMD64)]\n"
     ]
    }
   ],
   "source": [
    "# 2. Write a Python program to get the Python version you are using\n",
    "import sys\n",
    "print(sys.version);"
   ]
  },
  {
   "cell_type": "code",
   "execution_count": 43,
   "id": "511b0d3d",
   "metadata": {},
   "outputs": [
    {
     "name": "stdout",
     "output_type": "stream",
     "text": [
      "Current Date and Time:\n",
      "2021-10-23 10:40:42.411531\n"
     ]
    }
   ],
   "source": [
    "# 3. Write a Python program to display the current date and time.\n",
    "import datetime\n",
    "dt = datetime.datetime.now();\n",
    "print('Current Date and Time:')\n",
    "print(dt);"
   ]
  },
  {
   "cell_type": "code",
   "execution_count": 2,
   "id": "e394732b",
   "metadata": {},
   "outputs": [
    {
     "name": "stdout",
     "output_type": "stream",
     "text": [
      " Twinkle, twinkle, little star, \n",
      "          How I wonder what you are! \n",
      "                  Up above the world so high, \n",
      "                  Like a diamond in the sky.\n",
      " Twinkle, twinkle, little star, \n",
      "          How I wonder what you are\n"
     ]
    }
   ],
   "source": [
    "# 1. Write a Python program to print the following string in a specific format (see the\n",
    "# output).\n",
    "\n",
    "# Twinkle, twinkle, little star,\n",
    "           # How I wonder what you are!\n",
    "                   # Up above the world so high,\n",
    "                  # Like a diamond in the sky.\n",
    "\n",
    "# Twinkle, twinkle, little star,\n",
    "          # How I wonder what you are\n",
    "format = (\" Twinkle, twinkle, little star, \\n          How I wonder what you are! \\n                  Up above the world so high, \\n                  Like a diamond in the sky.\\n Twinkle, twinkle, little star, \\n          How I wonder what you are\");\n",
    "print(format); "
   ]
  },
  {
   "cell_type": "code",
   "execution_count": 3,
   "id": "f1e069f6",
   "metadata": {},
   "outputs": [
    {
     "name": "stdout",
     "output_type": "stream",
     "text": [
      "Enter Radius Of Circle :777.8\n",
      "The Area Of Circle with radius 777.8 is : 1900578.229765353\n"
     ]
    }
   ],
   "source": [
    "# 4. Write a Python program which accepts the radius of a circle from the user and compute\n",
    "# the area.\n",
    "import math\n",
    "\n",
    "radius = float(input((\"Enter Radius Of Circle :\")));\n",
    "area = math.pi * radius *radius\n",
    "\n",
    "print (\"The Area Of Circle with radius \" + str(radius) + \" is : \" +  str(area));"
   ]
  },
  {
   "cell_type": "code",
   "execution_count": 4,
   "id": "725e54fd",
   "metadata": {},
   "outputs": [
    {
     "name": "stdout",
     "output_type": "stream",
     "text": [
      "Enter Your First Name : khuzaima\n",
      "Enter Your Last Name : nawaz\n",
      "nawaz khuzaima\n"
     ]
    }
   ],
   "source": [
    "# 5. Write a Python program which accepts the user's first and last name and print them in\n",
    "# reverse order with a space between them.\n",
    "firstName = input(\"Enter Your First Name : \");\n",
    "lastName = input(\"Enter Your Last Name : \"  );\n",
    "print (lastName + \" \" + firstName)"
   ]
  },
  {
   "cell_type": "code",
   "execution_count": 7,
   "id": "65e27b37",
   "metadata": {},
   "outputs": [
    {
     "name": "stdout",
     "output_type": "stream",
     "text": [
      "Enter Your 1st Digit : 6\n",
      "Enter Your 2nd Digit : 6\n",
      "The sum of 1st & 2nd digit is : 12\n"
     ]
    }
   ],
   "source": [
    "# 6. Write a python program which takes two inputs from user and print them addition\n",
    "fInput = int(input(\"Enter Your 1st Digit : \"));\n",
    "lInput = int(input(\"Enter Your 2nd Digit : \"  ));\n",
    "print (\"The sum of 1st & 2nd digit is : \" + str( fInput +  lInput));"
   ]
  },
  {
   "cell_type": "code",
   "execution_count": 7,
   "id": "e2c31565",
   "metadata": {},
   "outputs": [
    {
     "name": "stdout",
     "output_type": "stream",
     "text": [
      "Enter Math Numbers : 100\n",
      "Enter Chemistry Numbers : 100\n",
      "Enter Physics Numbers : 100\n",
      "Enter Islamiyat Numbers : 100\n",
      "Enter Urdu Numbers : 100\n",
      "Grade A+\n"
     ]
    }
   ],
   "source": [
    "# 7. Write a program which takes 5 inputs from user for different subject’s marks, total it\n",
    "# and generate mark sheet using grades ?\n",
    "math=int(input('Enter Math Numbers : '));\n",
    "chemistry=int(input('Enter Chemistry Numbers : '));\n",
    "physics=int(input('Enter Physics Numbers : '));\n",
    "islamiyat = int(input('Enter Islamiyat Numbers : '));\n",
    "urdu     = int(input('Enter Urdu Numbers : '));\n",
    "total     =      500;\n",
    "percentage = int((math+chemistry+physics+islamiyat+urdu))/total*100;\n",
    "if percentage >= 80 and percentage <= 100:\n",
    "    print(\"Grade A+\");\n",
    "elif percentage < 80 and percentage >= 70:\n",
    "    print('Grade A');\n",
    "elif  percentage < 70 and percentage >= 60:\n",
    "    print('Grade B');\n",
    "elif  percentage < 60 and percentage >= 50:\n",
    "    print('Grade C');\n",
    "elif  percentage < 50 and percentage >= 33:\n",
    "    print('Grade D');\n",
    "elif  percentage < 33 and percentage > 0:\n",
    "    print('Fail');\n",
    "elif percentage > 100 or percentage < 0:\n",
    "    print(\"Enter Correct Number!\")"
   ]
  },
  {
   "cell_type": "code",
   "execution_count": 1,
   "id": "5d907b36",
   "metadata": {},
   "outputs": [
    {
     "name": "stdout",
     "output_type": "stream",
     "text": [
      "Enter a number : 7\n",
      "7 is an Odd number. \n"
     ]
    }
   ],
   "source": [
    "# 8. Write a program which take input from user and identify that the given number is even\n",
    "# or odd?\n",
    "num = int(input(\"Enter a number : \"));\n",
    "remainder = num % 2\n",
    "if  remainder == 0:\n",
    "  print(str(num)+ \" is an Even number.\" );\n",
    "else:\n",
    "    print( str(num) + \" is an Odd number. \");"
   ]
  },
  {
   "cell_type": "code",
   "execution_count": 2,
   "id": "793da533",
   "metadata": {},
   "outputs": [
    {
     "name": "stdout",
     "output_type": "stream",
     "text": [
      "10\n"
     ]
    }
   ],
   "source": [
    "# 9. Write a program which print the length of the list?\n",
    "listt = [1,2,3,4,5,6,'a','b','c','d'];\n",
    "print(len(listt));"
   ]
  },
  {
   "cell_type": "code",
   "execution_count": 2,
   "id": "22ca329f",
   "metadata": {},
   "outputs": [
    {
     "name": "stdout",
     "output_type": "stream",
     "text": [
      "45\n"
     ]
    }
   ],
   "source": [
    "# 10. Write a Python program to sum all the numeric items in a list?\n",
    "a = [1,2,3,4,5,6,7,8,9]\n",
    "b = sum(a);\n",
    "print(b);"
   ]
  },
  {
   "cell_type": "code",
   "execution_count": 7,
   "id": "65278b79",
   "metadata": {},
   "outputs": [
    {
     "name": "stdout",
     "output_type": "stream",
     "text": [
      "786\n"
     ]
    }
   ],
   "source": [
    "# 11. Write a Python program to get the largest number from a numeric list.\n",
    "list1 = [786,786,90,785,89,];\n",
    "print(max(list1));"
   ]
  },
  {
   "cell_type": "code",
   "execution_count": 12,
   "id": "22ada77e",
   "metadata": {},
   "outputs": [
    {
     "name": "stdout",
     "output_type": "stream",
     "text": [
      "1\n",
      "1\n",
      "2\n",
      "3\n"
     ]
    }
   ],
   "source": [
    "# 12. Take a list, say for example this one:\n",
    "# a = [1, 1, 2, 3, 5, 8, 13, 21, 34, 55, 89]\n",
    "# Write a program that prints out all the elements of the list that are less than 5.\n",
    "a = [1, 1, 2, 3, 5, 8, 13, 21, 34, 55, 89];\n",
    "for i in a:\n",
    "    if i < 5:\n",
    "        print(i);\n"
   ]
  },
  {
   "cell_type": "code",
   "execution_count": null,
   "id": "5a5d74f4",
   "metadata": {},
   "outputs": [],
   "source": []
  },
  {
   "cell_type": "code",
   "execution_count": null,
   "id": "64c4527c",
   "metadata": {},
   "outputs": [],
   "source": []
  }
 ],
 "metadata": {
  "kernelspec": {
   "display_name": "Python 3",
   "language": "python",
   "name": "python3"
  },
  "language_info": {
   "codemirror_mode": {
    "name": "ipython",
    "version": 3
   },
   "file_extension": ".py",
   "mimetype": "text/x-python",
   "name": "python",
   "nbconvert_exporter": "python",
   "pygments_lexer": "ipython3",
   "version": "3.8.8"
  }
 },
 "nbformat": 4,
 "nbformat_minor": 5
}
