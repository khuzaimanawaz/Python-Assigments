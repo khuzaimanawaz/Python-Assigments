{
 "cells": [
  {
   "cell_type": "code",
   "execution_count": 17,
   "id": "19611806",
   "metadata": {
    "scrolled": true
   },
   "outputs": [
    {
     "name": "stdout",
     "output_type": "stream",
     "text": [
      "32\n"
     ]
    }
   ],
   "source": [
    "a=2**5                # ** = power \n",
    "print(a)"
   ]
  },
  {
   "cell_type": "code",
   "execution_count": 16,
   "id": "ad004cb7",
   "metadata": {},
   "outputs": [
    {
     "name": "stdout",
     "output_type": "stream",
     "text": [
      "hello   \n",
      "   world\n"
     ]
    }
   ],
   "source": [
    " print ('hello   \\n   world')         #write in two lines using \\n"
   ]
  },
  {
   "cell_type": "code",
   "execution_count": 20,
   "id": "1ad9e5ae",
   "metadata": {},
   "outputs": [
    {
     "name": "stdout",
     "output_type": "stream",
     "text": [
      "True\n"
     ]
    }
   ],
   "source": [
    "x=5;\n",
    "y=10;\n",
    "a=25;\n",
    "b=10;\n",
    "if x+y == a-b:\n",
    "    print(True)\n",
    "else:\n",
    "    print(False)"
   ]
  },
  {
   "cell_type": "code",
   "execution_count": 59,
   "id": "8e65cb02",
   "metadata": {},
   "outputs": [
    {
     "name": "stdout",
     "output_type": "stream",
     "text": [
      " age33\n",
      " gendermale\n",
      "good\n"
     ]
    }
   ],
   "source": [
    "age = int(input(' age'));                            \n",
    "gender = input(' gender');\n",
    "if age > 18 and gender == 'male':\n",
    "    print('good');\n",
    "else:\n",
    "    status='bad';\n",
    "    print(status);\n",
    "\n",
    "\n",
    "    "
   ]
  },
  {
   "cell_type": "code",
   "execution_count": 49,
   "id": "ab96287a",
   "metadata": {},
   "outputs": [
    {
     "name": "stdout",
     "output_type": "stream",
     "text": [
      "a,b,c\n"
     ]
    }
   ],
   "source": [
    "n1='a';\n",
    "n2='b';\n",
    "n3='c';\n",
    "print(n1+','+n2+','+n3);      #concatination (n1+','+n2+','+n3)\n"
   ]
  },
  {
   "cell_type": "code",
   "execution_count": 104,
   "id": "96288e77",
   "metadata": {},
   "outputs": [
    {
     "name": "stdout",
     "output_type": "stream",
     "text": [
      "['khuzaima', 'saim', 'hassan', 'khuzi', 'maab']\n"
     ]
    }
   ],
   "source": [
    "name=['khuzaima','saim','hassan','khuzi','maab'];      #Arrays(List)\n",
    "print(name);"
   ]
  },
  {
   "cell_type": "code",
   "execution_count": 55,
   "id": "f921f6c4",
   "metadata": {},
   "outputs": [
    {
     "name": "stdout",
     "output_type": "stream",
     "text": [
      "maab\n"
     ]
    }
   ],
   "source": [
    "print(name[4]);       #call specific array"
   ]
  },
  {
   "cell_type": "code",
   "execution_count": 58,
   "id": "af60f7cb",
   "metadata": {},
   "outputs": [
    {
     "name": "stdout",
     "output_type": "stream",
     "text": [
      "['khuzaima', 'saim', 'hassan', 'khuzi developers', 'maab']\n"
     ]
    }
   ],
   "source": [
    "name[3]='khuzi developers';       #Replace Any in Array\n",
    "print(name);"
   ]
  },
  {
   "cell_type": "code",
   "execution_count": 69,
   "id": "306c99de",
   "metadata": {},
   "outputs": [
    {
     "name": "stdout",
     "output_type": "stream",
     "text": [
      "['khuzaima', 'saim', 'hassan', 'khuzi developers', 'maab', 'al maab']\n"
     ]
    }
   ],
   "source": [
    "name.append('al maab');        #add values in end (using append)\n",
    "print(name);"
   ]
  },
  {
   "cell_type": "code",
   "execution_count": 71,
   "id": "747acfa9",
   "metadata": {},
   "outputs": [
    {
     "name": "stdout",
     "output_type": "stream",
     "text": [
      "['khuzaima', 2662, 786, 77.8, True]\n"
     ]
    }
   ],
   "source": [
    "arr = ['khuzaima',2662,786,77.8,True];        #add all values in Arry(list)\n",
    "print(arr);"
   ]
  },
  {
   "cell_type": "code",
   "execution_count": 74,
   "id": "712c98f0",
   "metadata": {},
   "outputs": [
    {
     "data": {
      "text/plain": [
       "['khuzaima', 'saim', 'hassan', 'khuzi developers', 'maab', 'al maab']"
      ]
     },
     "execution_count": 74,
     "metadata": {},
     "output_type": "execute_result"
    }
   ],
   "source": [
    "name   # Call all Values Thats Creats in Arrys(lists)"
   ]
  },
  {
   "cell_type": "code",
   "execution_count": 80,
   "id": "e7c4045a",
   "metadata": {},
   "outputs": [
    {
     "name": "stdout",
     "output_type": "stream",
     "text": [
      "['khuzaima', 2662, 786, 77.8, True, 'khuzaima', 'saim', 'hassan', 'khuzi developers', 'maab', 'al maab']\n"
     ]
    }
   ],
   "source": [
    "newListt = arr + name;    # Add two Lists \n",
    "print(newListt);           #use camel like first small character and large character(newList)"
   ]
  },
  {
   "cell_type": "code",
   "execution_count": 108,
   "id": "6dcc3706",
   "metadata": {},
   "outputs": [
    {
     "data": {
      "text/plain": [
       "['khuzaima', 'saim', 'khuzidev', 'khuzidev', 'hassan', 'khuzi', 'maab']"
      ]
     },
     "execution_count": 108,
     "metadata": {},
     "output_type": "execute_result"
    }
   ],
   "source": [
    "name    #call arry(list) without using print"
   ]
  },
  {
   "cell_type": "code",
   "execution_count": 107,
   "id": "950d454f",
   "metadata": {},
   "outputs": [
    {
     "name": "stdout",
     "output_type": "stream",
     "text": [
      "['khuzaima', 'saim', 'khuzidev', 'khuzidev', 'hassan', 'khuzi', 'maab']\n"
     ]
    }
   ],
   "source": [
    "name.insert(2,\"khuzidev\");         #insert any values on any index\n",
    "print(name);"
   ]
  },
  {
   "cell_type": "code",
   "execution_count": 126,
   "id": "b40fbc26",
   "metadata": {},
   "outputs": [
    {
     "data": {
      "text/plain": [
       "['khuzaima', 'saim', 'khuzidev', 'khuzidev', 'hassan', 'khuzi', 'maab']"
      ]
     },
     "execution_count": 126,
     "metadata": {},
     "output_type": "execute_result"
    }
   ],
   "source": [
    "name"
   ]
  },
  {
   "cell_type": "markdown",
   "id": "c81dc207",
   "metadata": {},
   "source": [
    "name2=name[0:2];\n",
    "print(name2);"
   ]
  },
  {
   "cell_type": "code",
   "execution_count": 110,
   "id": "d925e96b",
   "metadata": {},
   "outputs": [
    {
     "name": "stdout",
     "output_type": "stream",
     "text": [
      "['khuzaima', 'saim']\n"
     ]
    }
   ],
   "source": [
    "name2=name[0:2]       #add some particular values in other list([0:2]=in this case 0-1, because one is minus from last digit)\n",
    "print(name2)"
   ]
  },
  {
   "cell_type": "code",
   "execution_count": 136,
   "id": "4cc2c990",
   "metadata": {},
   "outputs": [
    {
     "name": "stdout",
     "output_type": "stream",
     "text": [
      "['khuzaima', 'saim', 'khuzidev', 'khuzidev', 'hassan', 'khuzi']\n"
     ]
    }
   ],
   "source": [
    "name3 =name[3:]  #copy from above 3 like example\n",
    "print(name);"
   ]
  },
  {
   "cell_type": "code",
   "execution_count": 115,
   "id": "7e1729c3",
   "metadata": {},
   "outputs": [
    {
     "name": "stdout",
     "output_type": "stream",
     "text": [
      "['khuzaima']\n"
     ]
    }
   ],
   "source": [
    "del name2[1];           # delete value using index from arry\n",
    "\n",
    "print(name2)"
   ]
  },
  {
   "cell_type": "code",
   "execution_count": 130,
   "id": "7b7e380d",
   "metadata": {},
   "outputs": [
    {
     "name": "stdout",
     "output_type": "stream",
     "text": [
      "['khuzaima', 'saim', 'khuzidev', 'khuzidev', 'hassan', 'khuzi']\n"
     ]
    }
   ],
   "source": [
    "name.remove('maab');        #remove using values name\n",
    "print(name);"
   ]
  },
  {
   "cell_type": "code",
   "execution_count": 132,
   "id": "a50499f0",
   "metadata": {},
   "outputs": [
    {
     "name": "stdout",
     "output_type": "stream",
     "text": [
      "['khuzaima', 2662, 'khuzidev', 'khuzidev', 'khuzidev', 786]\n"
     ]
    }
   ],
   "source": [
    "arr.pop();          #Remove last value\n",
    "print(arr);"
   ]
  },
  {
   "cell_type": "code",
   "execution_count": null,
   "id": "7a9fa6c3",
   "metadata": {},
   "outputs": [],
   "source": []
  }
 ],
 "metadata": {
  "kernelspec": {
   "display_name": "Python 3",
   "language": "python",
   "name": "python3"
  },
  "language_info": {
   "codemirror_mode": {
    "name": "ipython",
    "version": 3
   },
   "file_extension": ".py",
   "mimetype": "text/x-python",
   "name": "python",
   "nbconvert_exporter": "python",
   "pygments_lexer": "ipython3",
   "version": "3.8.8"
  }
 },
 "nbformat": 4,
 "nbformat_minor": 5
}
